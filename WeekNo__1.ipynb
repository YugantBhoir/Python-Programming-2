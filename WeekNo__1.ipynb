{
  "cells": [
    {
      "cell_type": "markdown",
      "metadata": {
        "id": "view-in-github",
        "colab_type": "text"
      },
      "source": [
        "<a href=\"https://colab.research.google.com/github/YugantBhoir/Python-Programming-2/blob/main/WeekNo__1.ipynb\" target=\"_parent\"><img src=\"https://colab.research.google.com/assets/colab-badge.svg\" alt=\"Open In Colab\"/></a>"
      ]
    },
    {
      "cell_type": "markdown",
      "metadata": {
        "id": "nLKD5vWchk5d"
      },
      "source": [
        "\n",
        "\n",
        "#Section A : Fundamentals of Python\n",
        "\n"
      ]
    },
    {
      "cell_type": "markdown",
      "source": [],
      "metadata": {
        "id": "tZPUFPIJn5b4"
      }
    },
    {
      "cell_type": "code",
      "source": [
        "Name='Yugant_Bhoir'\n",
        "Batch='A1'"
      ],
      "metadata": {
        "id": "LIOPCbIHnYOi"
      },
      "execution_count": null,
      "outputs": []
    },
    {
      "cell_type": "markdown",
      "metadata": {
        "id": "BJkwaUUAiRtN"
      },
      "source": [
        "1. Write a Python program to print “Hello Python”"
      ]
    },
    {
      "cell_type": "code",
      "execution_count": null,
      "metadata": {
        "colab": {
          "base_uri": "https://localhost:8080/"
        },
        "id": "8WT3Ce4jhgce",
        "outputId": "3b6c7de2-d4f9-4448-f1c1-73b597fe1037"
      },
      "outputs": [
        {
          "output_type": "stream",
          "name": "stdout",
          "text": [
            "Hello Python\n"
          ]
        }
      ],
      "source": [
        "(\"printHello Python\")\n",
        "y = 'Hello Python'\n",
        "print(y)"
      ]
    },
    {
      "cell_type": "code",
      "execution_count": null,
      "metadata": {
        "colab": {
          "base_uri": "https://localhost:8080/"
        },
        "outputId": "dc58ab40-d354-4426-ec4a-40a5b78358c0",
        "id": "kv9LUxuqZ0Yj"
      },
      "outputs": [
        {
          "output_type": "stream",
          "name": "stdout",
          "text": [
            "Hello Python\n"
          ]
        }
      ],
      "source": [
        "(\"printHello Python\")\n",
        "y = 'Hello Python'\n",
        "print(y)"
      ]
    },
    {
      "cell_type": "markdown",
      "metadata": {
        "id": "LWvuBMJDiewI"
      },
      "source": [
        "2. Write a Python program to do arithmetical operations addition and division ?"
      ]
    },
    {
      "cell_type": "code",
      "execution_count": null,
      "metadata": {
        "colab": {
          "base_uri": "https://localhost:8080/"
        },
        "id": "8R1YdBcLixL3",
        "outputId": "5093e9f4-835b-4939-db1a-e1f6c4985396"
      },
      "outputs": [
        {
          "output_type": "stream",
          "name": "stdout",
          "text": [
            "25\n",
            "4.0\n"
          ]
        }
      ],
      "source": [
        "y = 20\n",
        "z = 5\n",
        "sum = y + z\n",
        "print(sum)\n",
        "div = y/z\n",
        "print(div)"
      ]
    },
    {
      "cell_type": "markdown",
      "metadata": {
        "id": "VdTYqEufjAn3"
      },
      "source": [
        "3. Write a Python program to find the area of a triangle?"
      ]
    },
    {
      "cell_type": "code",
      "execution_count": null,
      "metadata": {
        "colab": {
          "base_uri": "https://localhost:8080/"
        },
        "id": "HWqcIb88jBSK",
        "outputId": "e2d4bd2f-4822-462f-91ac-6ad500a57199"
      },
      "outputs": [
        {
          "output_type": "stream",
          "name": "stdout",
          "text": [
            "enter the height of the traingle: 12\n",
            "enter the base of the traingle: 6\n",
            "Area of triangle is : 36.0\n"
          ]
        }
      ],
      "source": [
        "altitude = float(input(\"enter the height of the traingle: \"))\n",
        "base = float(input(\"enter the base of the traingle: \"))\n",
        "area = 0.5 *(base*altitude)\n",
        "print('Area of triangle is :', area)"
      ]
    },
    {
      "cell_type": "markdown",
      "metadata": {
        "id": "E3DGbnXDj74d"
      },
      "source": [
        "4. Write a Python program to swap two variables?"
      ]
    },
    {
      "cell_type": "code",
      "execution_count": null,
      "metadata": {
        "colab": {
          "base_uri": "https://localhost:8080/"
        },
        "id": "uCziSCNaj-Dg",
        "outputId": "5423abc0-0066-42dc-d0d6-b35391616630"
      },
      "outputs": [
        {
          "output_type": "stream",
          "name": "stdout",
          "text": [
            "y = 10\n",
            "z = 5\n"
          ]
        }
      ],
      "source": [
        "y = 5\n",
        "z = 10\n",
        "\n",
        "y, z = z, y\n",
        "print(\"y =\", y)\n",
        "print(\"z =\", z)"
      ]
    },
    {
      "cell_type": "markdown",
      "metadata": {
        "id": "7e7fj9q7kQoy"
      },
      "source": [
        "5. Write a Python program to generate a random number?"
      ]
    },
    {
      "cell_type": "code",
      "execution_count": null,
      "metadata": {
        "colab": {
          "base_uri": "https://localhost:8080/"
        },
        "id": "ZGe_IK7vkSyn",
        "outputId": "edd28bc0-5d03-4158-a9ef-7426f4ab087c"
      },
      "outputs": [
        {
          "output_type": "stream",
          "name": "stdout",
          "text": [
            "68\n"
          ]
        }
      ],
      "source": [
        "import random \n",
        "rand_number = random.randint(0,100)\n",
        "print(rand_number)"
      ]
    },
    {
      "cell_type": "markdown",
      "metadata": {
        "id": "EcWCrqHXlMnF"
      },
      "source": [
        "#Section B:"
      ]
    },
    {
      "cell_type": "markdown",
      "metadata": {
        "id": "RCg9Jo8vlSVQ"
      },
      "source": [
        "1. Write a Python program to convert kilometers to miles?"
      ]
    },
    {
      "cell_type": "code",
      "execution_count": null,
      "metadata": {
        "colab": {
          "base_uri": "https://localhost:8080/"
        },
        "id": "AGP02KBHlR3Q",
        "outputId": "5604c1d0-fcd1-47b2-ff63-138f8db667b6"
      },
      "outputs": [
        {
          "output_type": "stream",
          "name": "stdout",
          "text": [
            "Enter no of kilometers: 10\n",
            "10.0 km is  6.21371  miles\n"
          ]
        }
      ],
      "source": [
        "kilometers = float(input(\"Enter no of kilometers: \"))\n",
        "miles = kilometers*0.621371\n",
        "print(kilometers, 'km is ', miles,' miles')"
      ]
    },
    {
      "cell_type": "markdown",
      "metadata": {
        "id": "w5BfVW0ImJ1o"
      },
      "source": [
        "2. Write a Python program to convert Celsius to Fahrenheit?"
      ]
    },
    {
      "cell_type": "code",
      "execution_count": null,
      "metadata": {
        "colab": {
          "base_uri": "https://localhost:8080/"
        },
        "id": "aO3gEw1dmNRQ",
        "outputId": "30721137-e867-43a3-b66d-6da8ef060dbe"
      },
      "outputs": [
        {
          "output_type": "stream",
          "name": "stdout",
          "text": [
            "Enter the temperature in Celsius: 32\n",
            "32.0  C is  89.6 F\n"
          ]
        }
      ],
      "source": [
        " Celsius = float(input('Enter the temperature in Celsius: '))\n",
        "Fahrenheit = (Celsius * 1.8) + 32\n",
        "print(Celsius, ' C is ', Fahrenheit , 'F')"
      ]
    },
    {
      "cell_type": "markdown",
      "metadata": {
        "id": "Zn7vRhifnDvP"
      },
      "source": [
        "3. Write a Python program to display calendar?"
      ]
    },
    {
      "cell_type": "code",
      "execution_count": null,
      "metadata": {
        "colab": {
          "base_uri": "https://localhost:8080/"
        },
        "id": "Y59cHQ1OnGEm",
        "outputId": "c1d4cd18-ffb2-40fd-8918-9c2fd4fa68d9"
      },
      "outputs": [
        {
          "output_type": "stream",
          "name": "stdout",
          "text": [
            "2004\n",
            "3\n",
            "     March 2004\n",
            "Mo Tu We Th Fr Sa Su\n",
            " 1  2  3  4  5  6  7\n",
            " 8  9 10 11 12 13 14\n",
            "15 16 17 18 19 20 21\n",
            "22 23 24 25 26 27 28\n",
            "29 30 31\n",
            "\n"
          ]
        }
      ],
      "source": [
        "import calendar\n",
        "\n",
        "yy = int(input())\n",
        "mm = int(input())\n",
        "\n",
        "print(calendar.month(yy,mm))\n",
        "\n"
      ]
    },
    {
      "cell_type": "markdown",
      "metadata": {
        "id": "XxU9R1KQnqiS"
      },
      "source": [
        "4. Write a Python program to solve quadratic equation?"
      ]
    },
    {
      "cell_type": "code",
      "execution_count": null,
      "metadata": {
        "colab": {
          "base_uri": "https://localhost:8080/"
        },
        "id": "DjBPy1t6onRE",
        "outputId": "e279138d-92e0-4121-93ee-83cfeb760f27"
      },
      "outputs": [
        {
          "output_type": "stream",
          "name": "stdout",
          "text": [
            "Enter value of w: 1\n",
            "Enter value of x: 5\n",
            "Enter value of y2: 6\n",
            "-2.0 and -3.0\n"
          ]
        }
      ],
      "source": [
        "import math\n",
        "\n",
        "w = int(input('Enter value of w: '))\n",
        "x = int(input('Enter value of x: '))\n",
        "y = int(input('Enter value of y2: '))\n",
        "\n",
        "z = ((x**2)- (4*w*y))\n",
        "solution1 = (-x+math.sqrt(z))/(2*w)\n",
        "solution2 = (-x-math.sqrt(z))/(2*w)\n",
        "\n",
        "print(solution1,'and',solution2)"
      ]
    },
    {
      "cell_type": "markdown",
      "metadata": {
        "id": "Gscn4sTSqNRx"
      },
      "source": [
        "5. Write a Python program to swap two variables without temp variable?"
      ]
    },
    {
      "cell_type": "code",
      "execution_count": null,
      "metadata": {
        "colab": {
          "base_uri": "https://localhost:8080/"
        },
        "id": "3dtTkRzKqKpN",
        "outputId": "2331c7a6-6e70-4159-8a68-e955b121ff30"
      },
      "outputs": [
        {
          "output_type": "stream",
          "name": "stdout",
          "text": [
            "3\n",
            "15\n"
          ]
        }
      ],
      "source": [
        "c = 15\n",
        "d = 3\n",
        "\n",
        "c,d = d,c\n",
        "\n",
        "print(c)\n",
        "print(d)"
      ]
    },
    {
      "cell_type": "markdown",
      "metadata": {
        "id": "VWX9WBzIq2do"
      },
      "source": [
        "#Section C:"
      ]
    },
    {
      "cell_type": "markdown",
      "metadata": {
        "id": "cNH_N9Ocq5CP"
      },
      "source": [
        "1. Write a Python Program to Check if a Number is Positive, Negative or Zero?"
      ]
    },
    {
      "cell_type": "code",
      "execution_count": null,
      "metadata": {
        "colab": {
          "base_uri": "https://localhost:8080/"
        },
        "id": "JwtKwVNtq6_d",
        "outputId": "df4d5fef-557f-4719-a586-c939504ce1b4"
      },
      "outputs": [
        {
          "output_type": "stream",
          "name": "stdout",
          "text": [
            "Enter a No: -8\n",
            "-8  is negative\n"
          ]
        }
      ],
      "source": [
        "No = int(input('Enter a No: '))\n",
        "if No>0:\n",
        "  print(No,' is positive')\n",
        "elif No==0:\n",
        "  print('Zero')\n",
        "elif No<0:\n",
        "  print(No,' is negative')"
      ]
    },
    {
      "cell_type": "markdown",
      "metadata": {
        "id": "omjogtcavSBD"
      },
      "source": [
        "2. Write a Python Program to Check if a Number is Odd or Even?"
      ]
    },
    {
      "cell_type": "code",
      "execution_count": null,
      "metadata": {
        "colab": {
          "base_uri": "https://localhost:8080/"
        },
        "id": "7h5u3gPlwweD",
        "outputId": "d60e6ce0-4fe2-4db1-feb0-c1a9ce5fed0e"
      },
      "outputs": [
        {
          "output_type": "stream",
          "name": "stdout",
          "text": [
            "Enter a No: 7\n",
            "7 is Odd\n"
          ]
        }
      ],
      "source": [
        "No = int(input('Enter a No: '))\n",
        "if No%2==0:\n",
        "  print(No,' is Even')\n",
        "else:\n",
        "  print('{0} is Odd'.format(No))"
      ]
    },
    {
      "cell_type": "markdown",
      "metadata": {
        "id": "6pQ5S63q8kX4"
      },
      "source": [
        "3. Write a Python Program to Check Leap Year?"
      ]
    },
    {
      "cell_type": "code",
      "execution_count": null,
      "metadata": {
        "colab": {
          "base_uri": "https://localhost:8080/"
        },
        "id": "jJnSPAvd8yDn",
        "outputId": "353fc5de-3c16-48e9-aead-a2a8efff708a"
      },
      "outputs": [
        {
          "output_type": "stream",
          "name": "stdout",
          "text": [
            "Enter the year: 2004\n",
            "2004 is a leap year.\n"
          ]
        }
      ],
      "source": [
        "year = int(input(\"Enter the year: \"))\n",
        "if year % 4 == 0 and year % 100 != 0:\n",
        "    print(year, \"is a leap year.\")\n",
        "elif year % 400 == 0:\n",
        "    print(year, \"is a leap year.\")\n",
        "elif year % 100 == 0:\n",
        "    print(year, \"is not a leap year.\")\n",
        "else:\n",
        "    print(year, \"is not a leap year.\")"
      ]
    },
    {
      "cell_type": "markdown",
      "metadata": {
        "id": "y2B8DVhQIP72"
      },
      "source": [
        "4. Write a Python Program to Check Prime Number?"
      ]
    },
    {
      "cell_type": "code",
      "execution_count": null,
      "metadata": {
        "colab": {
          "base_uri": "https://localhost:8080/"
        },
        "id": "i_CCy8f-JSzJ",
        "outputId": "fb2cb5e4-6f45-4b37-97cc-1104dd5c8fb4"
      },
      "outputs": [
        {
          "output_type": "stream",
          "name": "stdout",
          "text": [
            "5 is a prime number\n"
          ]
        }
      ],
      "source": [
        "num = 5\n",
        "\n",
        "# To take input from the user\n",
        "#num = int(input(\"Enter a number: \"))\n",
        "\n",
        "# prime numbers are greater than 1\n",
        "if num > 1:\n",
        "   # check for factors\n",
        "   for i in range(2,num):\n",
        "       if (num % i) == 0:\n",
        "           print(num,\"is not a prime number\")\n",
        "           print(i,\"times\",num//i,\"is\",num)\n",
        "           break\n",
        "   else:\n",
        "       print(num,\"is a prime number\")\n",
        "       \n",
        "# if input number is less than\n",
        "# or equal to 1, it is not prime\n",
        "else:\n",
        "   print(num,\"is not a prime number\")\n"
      ]
    },
    {
      "cell_type": "markdown",
      "metadata": {
        "id": "C7nmWXm7OZbm"
      },
      "source": [
        "5. Write a Python Program to Print all Prime Numbers in an Interval of 1-10000?"
      ]
    },
    {
      "cell_type": "code",
      "execution_count": null,
      "metadata": {
        "id": "rRPIu8yhOwx0",
        "colab": {
          "base_uri": "https://localhost:8080/"
        },
        "outputId": "74b91905-b442-4897-fcfb-04025dc87c4e"
      },
      "outputs": [
        {
          "output_type": "stream",
          "name": "stdout",
          "text": [
            "2\n",
            "3\n",
            "5\n",
            "7\n",
            "11\n",
            "13\n",
            "17\n",
            "19\n",
            "23\n",
            "29\n",
            "31\n",
            "37\n",
            "41\n",
            "43\n",
            "47\n",
            "53\n",
            "59\n",
            "61\n",
            "67\n",
            "71\n",
            "73\n",
            "79\n",
            "83\n",
            "89\n",
            "97\n",
            "101\n",
            "103\n",
            "107\n",
            "109\n",
            "113\n",
            "127\n",
            "131\n",
            "137\n",
            "139\n",
            "149\n",
            "151\n",
            "157\n",
            "163\n",
            "167\n",
            "173\n",
            "179\n",
            "181\n",
            "191\n",
            "193\n",
            "197\n",
            "199\n",
            "211\n",
            "223\n",
            "227\n",
            "229\n",
            "233\n",
            "239\n",
            "241\n",
            "251\n",
            "257\n",
            "263\n",
            "269\n",
            "271\n",
            "277\n",
            "281\n",
            "283\n",
            "293\n",
            "307\n",
            "311\n",
            "313\n",
            "317\n",
            "331\n",
            "337\n",
            "347\n",
            "349\n",
            "353\n",
            "359\n",
            "367\n",
            "373\n",
            "379\n",
            "383\n",
            "389\n",
            "397\n",
            "401\n",
            "409\n",
            "419\n",
            "421\n",
            "431\n",
            "433\n",
            "439\n",
            "443\n",
            "449\n",
            "457\n",
            "461\n",
            "463\n",
            "467\n",
            "479\n",
            "487\n",
            "491\n",
            "499\n",
            "503\n",
            "509\n",
            "521\n",
            "523\n",
            "541\n",
            "547\n",
            "557\n",
            "563\n",
            "569\n",
            "571\n",
            "577\n",
            "587\n",
            "593\n",
            "599\n",
            "601\n",
            "607\n",
            "613\n",
            "617\n",
            "619\n",
            "631\n",
            "641\n",
            "643\n",
            "647\n",
            "653\n",
            "659\n",
            "661\n",
            "673\n",
            "677\n",
            "683\n",
            "691\n",
            "701\n",
            "709\n",
            "719\n",
            "727\n",
            "733\n",
            "739\n",
            "743\n",
            "751\n",
            "757\n",
            "761\n",
            "769\n",
            "773\n",
            "787\n",
            "797\n",
            "809\n",
            "811\n",
            "821\n",
            "823\n",
            "827\n",
            "829\n",
            "839\n",
            "853\n",
            "857\n",
            "859\n",
            "863\n",
            "877\n",
            "881\n",
            "883\n",
            "887\n",
            "907\n",
            "911\n",
            "919\n",
            "929\n",
            "937\n",
            "941\n",
            "947\n",
            "953\n",
            "967\n",
            "971\n",
            "977\n",
            "983\n",
            "991\n",
            "997\n"
          ]
        }
      ],
      "source": [
        "lower_limit = 1\n",
        "upper_limit = 1000\n",
        "\n",
        "for No in range(lower_limit, upper_limit+ 1):\n",
        "   if No > 1:\n",
        "       for i in range(2, No):\n",
        "           if (No % i) == 0:\n",
        "               break\n",
        "       else:\n",
        "           print(No)"
      ]
    },
    {
      "cell_type": "markdown",
      "metadata": {
        "id": "UJcodZXpQUvE"
      },
      "source": [
        "#Section D"
      ]
    },
    {
      "cell_type": "markdown",
      "metadata": {
        "id": "F92xRBC4Qgfl"
      },
      "source": [
        "1. Write a Python Program to Find the Factorial of a Number?"
      ]
    },
    {
      "cell_type": "code",
      "execution_count": null,
      "metadata": {
        "id": "A5i3mddjQiWu",
        "outputId": "17733731-eb29-494b-be1e-f6408e31da39",
        "colab": {
          "base_uri": "https://localhost:8080/"
        }
      },
      "outputs": [
        {
          "output_type": "stream",
          "name": "stdout",
          "text": [
            "The factorial of 5 is 120\n"
          ]
        }
      ],
      "source": [
        "num = 5\n",
        "\n",
        "# To take input from the user\n",
        "#num = int(input(\"Enter a number: \"))\n",
        "\n",
        "factorial = 1\n",
        "\n",
        "# check if the number is negative, positive or zero\n",
        "if num < 0:\n",
        "   print(\"Sorry, factorial does not exist for negative numbers\")\n",
        "elif num == 0:\n",
        "   print(\"The factorial of 0 is 1\")\n",
        "else:\n",
        "   for i in range(1,num + 1):\n",
        "       factorial = factorial*i\n",
        "   print(\"The factorial of\",num,\"is\",factorial)"
      ]
    },
    {
      "cell_type": "markdown",
      "metadata": {
        "id": "LqFA7nv4Rl-Z"
      },
      "source": [
        "2. Write a Python Program to Display the multiplication Table?"
      ]
    },
    {
      "cell_type": "code",
      "execution_count": null,
      "metadata": {
        "id": "M_O7SRteRo2B",
        "colab": {
          "base_uri": "https://localhost:8080/"
        },
        "outputId": "41e5da52-74d1-4fb0-a150-ea20e5789c75"
      },
      "outputs": [
        {
          "output_type": "stream",
          "name": "stdout",
          "text": [
            "7\n",
            "7  x  1  =  7\n",
            "7  x  2  =  14\n",
            "7  x  3  =  21\n",
            "7  x  4  =  28\n",
            "7  x  5  =  35\n",
            "7  x  6  =  42\n",
            "7  x  7  =  49\n",
            "7  x  8  =  56\n",
            "7  x  9  =  63\n",
            "7  x  10  =  70\n",
            "7  x  11  =  77\n",
            "7  x  12  =  84\n"
          ]
        }
      ],
      "source": [
        "number = int(input())\n",
        "for i in range(1,13):\n",
        "  print(number,\" x \",i,\" = \",number*i)"
      ]
    },
    {
      "cell_type": "markdown",
      "metadata": {
        "id": "zzNZOF4GSHWw"
      },
      "source": [
        "3. Write a Python Program to Print the Fibonacci sequence?"
      ]
    },
    {
      "cell_type": "code",
      "execution_count": null,
      "metadata": {
        "id": "07jDjzqui2hH",
        "colab": {
          "base_uri": "https://localhost:8080/"
        },
        "outputId": "c72e1327-a04b-4339-e8f0-42dc238d729f"
      },
      "outputs": [
        {
          "output_type": "stream",
          "name": "stdout",
          "text": [
            "7\n",
            "Fibonnaci Sequence: \n",
            "0\n",
            "1\n",
            "1\n",
            "2\n",
            "3\n",
            "5\n",
            "8\n"
          ]
        }
      ],
      "source": [
        "nthterm = int(input())\n",
        "a = 0\n",
        "b = 1\n",
        "res = 0\n",
        "if nthterm <= 0 : \n",
        "  print(\"Not valid\")\n",
        "elif nthterm == 1:\n",
        "  print(a)\n",
        "else:\n",
        "  print(\"Fibonnaci Sequence: \")\n",
        "  while res < nthterm :\n",
        "    print(a)\n",
        "    nth= a + b\n",
        "    a = b \n",
        "    b = nth\n",
        "    res += 1"
      ]
    },
    {
      "cell_type": "markdown",
      "metadata": {
        "id": "G0-PglIblA1B"
      },
      "source": [
        "4. Write a Python Program to Check Armstrong Number?"
      ]
    },
    {
      "cell_type": "code",
      "execution_count": null,
      "metadata": {
        "id": "jHRjML3IpPxC",
        "colab": {
          "base_uri": "https://localhost:8080/"
        },
        "outputId": "62a2fd0e-f895-4fb5-d518-c5166a08a08c"
      },
      "outputs": [
        {
          "output_type": "stream",
          "name": "stdout",
          "text": [
            "Enter a number: 9\n",
            "9 is not an Armstrong number\n"
          ]
        }
      ],
      "source": [
        "num = int(input(\"Enter a number: \"))\n",
        "sum = 0 \n",
        "temp = num \n",
        "while temp > 0:\n",
        "  digit = temp%10\n",
        "  sum += digit**3\n",
        "  temp = temp//10\n",
        "\n",
        "if num == sum:\n",
        "   print(num,\"is an Armstrong number\")\n",
        "else:\n",
        "   print(num,\"is not an Armstrong number\")\n",
        "\n"
      ]
    },
    {
      "cell_type": "markdown",
      "metadata": {
        "id": "t28jWkHUpQIC"
      },
      "source": [
        "5. Write a Python Program to Find Armstrong Number in an Interval?"
      ]
    },
    {
      "cell_type": "code",
      "execution_count": null,
      "metadata": {
        "id": "_P1879nclD6u",
        "colab": {
          "base_uri": "https://localhost:8080/"
        },
        "outputId": "1fc1b012-205d-4c6a-a653-bf219cbc98ac"
      },
      "outputs": [
        {
          "name": "stdout",
          "output_type": "stream",
          "text": [
            "enter the lower limit: 4\n",
            "enter the upper limit: 5\n"
          ]
        }
      ],
      "source": [
        "lower  = int(input(\"enter the lower limit: \"))\n",
        "upper = int(input(\"enter the upper limit: \"))\n",
        "for i in range(lower, upper+1):\n",
        "  sum =0\n",
        "  num = i\n",
        "  while(i!=0):\n",
        "    digit=i%10\n",
        "    sum = sum + (digit**3)\n",
        "    i = i//10\n",
        "  if num == sum:\n",
        "    print(num)"
      ]
    },
    {
      "cell_type": "markdown",
      "metadata": {
        "id": "5Dj0CXfnsD-S"
      },
      "source": [
        "6. Write a Python Program to Find the Sum of Natural Numbers?"
      ]
    },
    {
      "cell_type": "code",
      "execution_count": null,
      "metadata": {
        "id": "TWWySqDnqZlu",
        "colab": {
          "base_uri": "https://localhost:8080/"
        },
        "outputId": "f7540f7c-38a8-42d6-a592-bf85a0dd5993"
      },
      "outputs": [
        {
          "output_type": "stream",
          "name": "stdout",
          "text": [
            "Enter a number: 7\n",
            "28\n"
          ]
        }
      ],
      "source": [
        "def sumofn(n):\n",
        "   if n <= 1:\n",
        "       return n\n",
        "   else:\n",
        "       return n + sumofn(n-1)\n",
        "x = int(input(\"Enter a number: \"))\n",
        "res = sumofn(x)\n",
        "print(res)"
      ]
    },
    {
      "cell_type": "markdown",
      "metadata": {
        "id": "5ivHz90Ew8ht"
      },
      "source": []
    },
    {
      "cell_type": "markdown",
      "metadata": {
        "id": "0xAMYM2mw-CF"
      },
      "source": [
        "#Section E:"
      ]
    },
    {
      "cell_type": "markdown",
      "metadata": {
        "id": "N-XJS3tExoAC"
      },
      "source": [
        "1. Write a Python Program to find sum of array?"
      ]
    },
    {
      "cell_type": "code",
      "execution_count": null,
      "metadata": {
        "id": "Ismlxs7rxqlx",
        "colab": {
          "base_uri": "https://localhost:8080/"
        },
        "outputId": "6f2fe8ed-2a39-4c2b-9f72-7f680de8a678"
      },
      "outputs": [
        {
          "output_type": "stream",
          "name": "stdout",
          "text": [
            "184\n"
          ]
        }
      ],
      "source": [
        "arr = [12, 3, 4, 15, 25]\n",
        "for i in arr:\n",
        "  sum += i\n",
        "print(sum)"
      ]
    },
    {
      "cell_type": "markdown",
      "metadata": {
        "id": "CNTY3H83yhRK"
      },
      "source": [
        "2. Write a Python Program to find largest element in an array?"
      ]
    },
    {
      "cell_type": "code",
      "execution_count": null,
      "metadata": {
        "id": "8kQcK-flyjEq",
        "colab": {
          "base_uri": "https://localhost:8080/"
        },
        "outputId": "7a27b4ff-9697-455b-9555-b239ab9a668a"
      },
      "outputs": [
        {
          "output_type": "stream",
          "name": "stdout",
          "text": [
            "923\n"
          ]
        }
      ],
      "source": [
        "arr = [12, 3, 4, 15, 25, 923]\n",
        "largest = 0\n",
        "for i in range(len(arr)):\n",
        "  if arr[i] > largest:\n",
        "    largest = arr[i]\n",
        "print(largest)"
      ]
    },
    {
      "cell_type": "markdown",
      "source": [
        "4. Write a Python Program to Split the array and add the first part to the end?"
      ],
      "metadata": {
        "id": "GzvWz5BE5Fbj"
      }
    },
    {
      "cell_type": "code",
      "source": [
        "def split(arr, k):\n",
        "    arr = arr[k:] + arr[:k]\n",
        "    return arr\n",
        "   \n",
        "k = 2\n",
        "arr = [10, 13, 5, 17]\n",
        "print(\"Output array is\", split(arr, k))"
      ],
      "metadata": {
        "colab": {
          "base_uri": "https://localhost:8080/"
        },
        "id": "KDvk8SEB5Hv6",
        "outputId": "57ca7d2f-af4e-4c42-91ff-d6b4e7b716bb"
      },
      "execution_count": null,
      "outputs": [
        {
          "output_type": "stream",
          "name": "stdout",
          "text": [
            "Output array is [5, 17, 10, 13]\n"
          ]
        }
      ]
    },
    {
      "cell_type": "markdown",
      "source": [
        "5. Write a Python Program to check if given array is Monotonic?"
      ],
      "metadata": {
        "id": "NBfKJ_tr5Jwf"
      }
    },
    {
      "cell_type": "code",
      "source": [
        "def isMonotonic(A):\n",
        "   return (all(A[i] <= A[i + 1] for i in range(len(A) - 1)) or\n",
        "      all(A[i] >= A[i + 1] for i in range(len(A) - 1)))\n",
        "A = [1,2,3,4,7,8]\n",
        "print(isMonotonic(A))"
      ],
      "metadata": {
        "colab": {
          "base_uri": "https://localhost:8080/"
        },
        "id": "T5DOrZxt5Kdi",
        "outputId": "88d46df4-6076-43c4-984e-23be34a0665f"
      },
      "execution_count": null,
      "outputs": [
        {
          "output_type": "stream",
          "name": "stdout",
          "text": [
            "True\n"
          ]
        }
      ]
    },
    {
      "cell_type": "markdown",
      "metadata": {
        "id": "BWnHoodtJM1s"
      },
      "source": [
        "#Section F:"
      ]
    },
    {
      "cell_type": "markdown",
      "metadata": {
        "id": "YPO6Q7qDJPEr"
      },
      "source": [
        "1. Write a Python program to find sum of elements in list?"
      ]
    },
    {
      "cell_type": "code",
      "execution_count": null,
      "metadata": {
        "id": "n3KILTduJmTO",
        "colab": {
          "base_uri": "https://localhost:8080/"
        },
        "outputId": "e90c06dc-dd37-4688-d6da-e9347d9af1f9"
      },
      "outputs": [
        {
          "output_type": "stream",
          "name": "stdout",
          "text": [
            "14\n"
          ]
        }
      ],
      "source": [
        "list = [1, 2, 3, 1, 2, 5]\n",
        "sum = 0\n",
        "for i in list:\n",
        "  sum += i\n",
        "print(sum)\n"
      ]
    },
    {
      "cell_type": "markdown",
      "metadata": {
        "id": "bWXL4V2dKCWu"
      },
      "source": [
        "2. Write a Python program to Multiply all numbers in the list?"
      ]
    },
    {
      "cell_type": "code",
      "execution_count": null,
      "metadata": {
        "id": "oD_KyUntKER7",
        "colab": {
          "base_uri": "https://localhost:8080/"
        },
        "outputId": "fccb524c-79c3-4bab-bad6-becd9760acf9"
      },
      "outputs": [
        {
          "output_type": "stream",
          "name": "stdout",
          "text": [
            "60\n"
          ]
        }
      ],
      "source": [
        "list = [1, 2, 3, 1, 2, 5]\n",
        "product = 1\n",
        "for i in list:\n",
        "  product *= i\n",
        "print(product)"
      ]
    },
    {
      "cell_type": "markdown",
      "metadata": {
        "id": "YeyCaT6RKWju"
      },
      "source": [
        "3. Write a Python program to find smallest number in a list?"
      ]
    },
    {
      "cell_type": "code",
      "execution_count": null,
      "metadata": {
        "id": "i6w-qyseKYty",
        "colab": {
          "base_uri": "https://localhost:8080/"
        },
        "outputId": "1db50a9b-c315-453a-af04-628818e56109"
      },
      "outputs": [
        {
          "output_type": "stream",
          "name": "stdout",
          "text": [
            "[1]\n"
          ]
        }
      ],
      "source": [
        "list1 = [10, 20, 1, 45, 99]\n",
        "list1.sort()\n",
        "print(list1[:1])"
      ]
    },
    {
      "cell_type": "markdown",
      "metadata": {
        "id": "1cW7_LAuLHg3"
      },
      "source": [
        "4. Write a Python program to find largest number in a list?"
      ]
    },
    {
      "cell_type": "code",
      "execution_count": null,
      "metadata": {
        "id": "C-MVGevjLL34",
        "colab": {
          "base_uri": "https://localhost:8080/"
        },
        "outputId": "0e2aca17-0791-42fd-fd40-211498bb7d58"
      },
      "outputs": [
        {
          "output_type": "stream",
          "name": "stdout",
          "text": [
            "[99]\n"
          ]
        }
      ],
      "source": [
        "list1 = [10, 20, 1, 45, 99]\n",
        "list1.sort()\n",
        "print(list1[-1:])"
      ]
    },
    {
      "cell_type": "markdown",
      "metadata": {
        "id": "Hc2cuG45Li6I"
      },
      "source": [
        "5. Write a Python program to find second largest number in a list?"
      ]
    },
    {
      "cell_type": "code",
      "execution_count": null,
      "metadata": {
        "id": "Qo032dSwLmIP",
        "colab": {
          "base_uri": "https://localhost:8080/"
        },
        "outputId": "206f03dc-6fc7-49c1-f194-b2d480a735d7"
      },
      "outputs": [
        {
          "output_type": "stream",
          "name": "stdout",
          "text": [
            "[45]\n"
          ]
        }
      ],
      "source": [
        "list1 = [10, 20, 1, 45, 99]\n",
        "list1.sort()\n",
        "print(list1[-2:-1])"
      ]
    },
    {
      "cell_type": "markdown",
      "metadata": {
        "id": "jPg_mxO7LuzV"
      },
      "source": [
        "6. Write a Python program to find N largest elements from a list?"
      ]
    },
    {
      "cell_type": "code",
      "execution_count": null,
      "metadata": {
        "id": "6BaUBiV8LxUL",
        "colab": {
          "base_uri": "https://localhost:8080/"
        },
        "outputId": "a1c86078-b5b8-44e5-83c8-20faf6c97c00"
      },
      "outputs": [
        {
          "output_type": "stream",
          "name": "stdout",
          "text": [
            "7\n",
            "[985, 66, 41, 26, 22, 17, 10]\n"
          ]
        }
      ],
      "source": [
        "def function1(lis, N):\n",
        "    list2 = []\n",
        "\n",
        "    for i in range(0, N):\n",
        "        max1 = 0\n",
        "\n",
        "        for j in range(len(lis)):\n",
        "            if list1[j] > max1:\n",
        "                max1 = list1[j];\n",
        "\n",
        "        list1.remove(max1)\n",
        "        list2.append(max1)\n",
        "\n",
        "    print(list2)\n",
        "\n",
        "\n",
        "list1 = [22, 26, 41, 985, 0, 3, 17, 66, 10]\n",
        "N = int(input())\n",
        "function1(list1, N)"
      ]
    },
    {
      "cell_type": "markdown",
      "metadata": {
        "id": "lSiXx2-1aQWd"
      },
      "source": [
        "7. Write a Python program to print even numbers in a list?"
      ]
    },
    {
      "cell_type": "code",
      "execution_count": null,
      "metadata": {
        "id": "Myv3yIZ_aRaO",
        "colab": {
          "base_uri": "https://localhost:8080/"
        },
        "outputId": "776a05c2-46d7-4750-eebd-d32c808b9e82"
      },
      "outputs": [
        {
          "output_type": "stream",
          "name": "stdout",
          "text": [
            "10\n",
            "20\n"
          ]
        }
      ],
      "source": [
        "list1 = [10, 20, 1, 45, 99]\n",
        "for i in list1:\n",
        "  if i%2 == 0:\n",
        "    print(i)\n",
        "  \n"
      ]
    },
    {
      "cell_type": "markdown",
      "metadata": {
        "id": "qgEw_lEfafQu"
      },
      "source": [
        "8. Write a Python program to print odd numbers in a List?"
      ]
    },
    {
      "cell_type": "code",
      "execution_count": null,
      "metadata": {
        "id": "Y1nwavKxaf2E",
        "colab": {
          "base_uri": "https://localhost:8080/"
        },
        "outputId": "37d1cace-fa31-4893-f622-4830238f6369"
      },
      "outputs": [
        {
          "output_type": "stream",
          "name": "stdout",
          "text": [
            "1\n",
            "45\n",
            "99\n"
          ]
        }
      ],
      "source": [
        "list1 = [10, 20, 1, 45, 99]\n",
        "for i in list1:\n",
        "  if i%2 != 0:\n",
        "    print(i)\n",
        "  "
      ]
    },
    {
      "cell_type": "markdown",
      "metadata": {
        "id": "wQmKnELbaQR1"
      },
      "source": [
        "9. Write a Python program to Remove empty List from List?"
      ]
    },
    {
      "cell_type": "code",
      "execution_count": null,
      "metadata": {
        "id": "lDHboNoVazW6",
        "colab": {
          "base_uri": "https://localhost:8080/"
        },
        "outputId": "7443320e-79e9-450f-c946-b9cec5d3671a"
      },
      "outputs": [
        {
          "output_type": "stream",
          "name": "stdout",
          "text": [
            "[10, 20, 1, 45, 99, 984, 23, [3, 4]]\n"
          ]
        }
      ],
      "source": [
        "list2 = [10, 20, 1, 45, 99, [] ,984 , [] , 23, [3,4]]\n",
        "\n",
        "newlist = []\n",
        "for i in list2:\n",
        "  if i:\n",
        "    newlist.append(i)\n",
        "print(newlist)"
      ]
    },
    {
      "cell_type": "markdown",
      "metadata": {
        "id": "vthQPRm4bXSA"
      },
      "source": [
        "10. Write a Python program to Cloning or Copying a list?"
      ]
    },
    {
      "cell_type": "code",
      "execution_count": null,
      "metadata": {
        "id": "WXwMcExxbYLi",
        "colab": {
          "base_uri": "https://localhost:8080/"
        },
        "outputId": "339074ae-f0dd-4262-ea2b-de9667b2f18b"
      },
      "outputs": [
        {
          "output_type": "stream",
          "name": "stdout",
          "text": [
            "[10, 22, 44, 23, 4, 34]\n",
            "[10, 22, 44, 23, 4, 34]\n"
          ]
        }
      ],
      "source": [
        "\n",
        "list3 = [10, 22, 44, 23, 4, 34]\n",
        "new_list = list3.copy()\n",
        "print(list3)\n",
        "print(new_list)\n",
        "\n"
      ]
    },
    {
      "cell_type": "markdown",
      "metadata": {
        "id": "hzNIUziCPF8S"
      },
      "source": [
        "11. Write a Python program to Count occurrences of an element in a list?"
      ]
    },
    {
      "cell_type": "code",
      "execution_count": null,
      "metadata": {
        "colab": {
          "base_uri": "https://localhost:8080/"
        },
        "id": "swpzMP20PMCG",
        "outputId": "00747f12-2fa4-47a9-a02e-ceed77e05cfe"
      },
      "outputs": [
        {
          "output_type": "stream",
          "name": "stdout",
          "text": [
            "int 10 is repeated: 7 times\n"
          ]
        }
      ],
      "source": [
        "list3 = [10, 22, 44, 23, 4, 34, 10, 10, 10 , 10, 10, 10]\n",
        "x = 10\n",
        "y = []\n",
        "for i in list3:\n",
        "  if i == x:\n",
        "    y.append(i)\n",
        "\n",
        "print(\"int 10 is repeated:\",len(y),\"times\")\n",
        "\n",
        "\n"
      ]
    }
  ],
  "metadata": {
    "colab": {
      "collapsed_sections": [],
      "provenance": [],
      "include_colab_link": true
    },
    "kernelspec": {
      "display_name": "Python 3",
      "name": "python3"
    },
    "language_info": {
      "name": "python"
    }
  },
  "nbformat": 4,
  "nbformat_minor": 0
}